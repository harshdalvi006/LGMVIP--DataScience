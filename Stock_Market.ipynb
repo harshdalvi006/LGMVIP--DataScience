{
  "nbformat": 4,
  "nbformat_minor": 0,
  "metadata": {
    "colab": {
      "provenance": []
    },
    "kernelspec": {
      "name": "python3",
      "display_name": "Python 3"
    },
    "language_info": {
      "name": "python"
    }
  },
  "cells": [
    {
      "cell_type": "markdown",
      "source": [
        "**Importing the Libraries**"
      ],
      "metadata": {
        "id": "-ByqpAGHKV_h"
      }
    },
    {
      "cell_type": "code",
      "execution_count": 51,
      "metadata": {
        "id": "edqUOfe1FPWB"
      },
      "outputs": [],
      "source": [
        "#Importing the Libraries\n",
        "import pandas as PD\n",
        "import numpy as np\n",
        "%matplotlib inline\n",
        "import matplotlib. pyplot as plt\n",
        "import matplotlib\n",
        "from sklearn.preprocessing import MinMaxScaler\n",
        "from keras.layers import LSTM, Dense, Dropout\n",
        "from sklearn.model_selection import TimeSeriesSplit\n",
        "from sklearn.metrics import mean_squared_error, r2_score\n",
        "import matplotlib. dates as mandates\n",
        "from sklearn.preprocessing import MinMaxScaler\n",
        "from sklearn import linear_model\n",
        "from keras.models import Sequential\n",
        "from keras.layers import Dense\n",
        "import keras.backend as K\n",
        "from keras.callbacks import EarlyStopping\n",
        "from keras.optimizers import Adam\n",
        "from keras.models import load_model\n",
        "from keras.layers import LSTM\n",
        "from keras.utils.vis_utils import plot_model"
      ]
    },
    {
      "cell_type": "markdown",
      "source": [
        "**Getting to Visualising the Stock Market Prediction Data**"
      ],
      "metadata": {
        "id": "OKsiSu3qKZTa"
      }
    },
    {
      "cell_type": "code",
      "source": [
        "#Get the Dataset\n",
        "df=PD.read_csv('/content/Date,Open,High,Low,Last,Close,Total.txt')\n",
        "df.head()"
      ],
      "metadata": {
        "colab": {
          "base_uri": "https://localhost:8080/",
          "height": 206
        },
        "id": "GaNsCHAHGqC5",
        "outputId": "d6e9c188-4f3b-42f4-ad8b-aa4a66a64eb7"
      },
      "execution_count": 52,
      "outputs": [
        {
          "output_type": "execute_result",
          "data": {
            "text/plain": [
              "         Date    Open    High     Low    Last   Close  Total Trade Quantity  \\\n",
              "0  2018-09-28  234.05  235.95  230.20  233.50  233.75               3069914   \n",
              "1  2018-09-27  234.55  236.80  231.10  233.80  233.25               5082859   \n",
              "2  2018-09-26  240.00  240.00  232.50  235.00  234.25               2240909   \n",
              "3  2018-09-25  233.30  236.75  232.00  236.25  236.10               2349368   \n",
              "4  2018-09-24  233.55  239.20  230.75  234.00  233.30               3423509   \n",
              "\n",
              "   Turnover (Lacs)  \n",
              "0          7162.35  \n",
              "1         11859.95  \n",
              "2          5248.60  \n",
              "3          5503.90  \n",
              "4          7999.55  "
            ],
            "text/html": [
              "\n",
              "  <div id=\"df-a18b23cd-d392-4147-b6ee-a68ace64fa26\">\n",
              "    <div class=\"colab-df-container\">\n",
              "      <div>\n",
              "<style scoped>\n",
              "    .dataframe tbody tr th:only-of-type {\n",
              "        vertical-align: middle;\n",
              "    }\n",
              "\n",
              "    .dataframe tbody tr th {\n",
              "        vertical-align: top;\n",
              "    }\n",
              "\n",
              "    .dataframe thead th {\n",
              "        text-align: right;\n",
              "    }\n",
              "</style>\n",
              "<table border=\"1\" class=\"dataframe\">\n",
              "  <thead>\n",
              "    <tr style=\"text-align: right;\">\n",
              "      <th></th>\n",
              "      <th>Date</th>\n",
              "      <th>Open</th>\n",
              "      <th>High</th>\n",
              "      <th>Low</th>\n",
              "      <th>Last</th>\n",
              "      <th>Close</th>\n",
              "      <th>Total Trade Quantity</th>\n",
              "      <th>Turnover (Lacs)</th>\n",
              "    </tr>\n",
              "  </thead>\n",
              "  <tbody>\n",
              "    <tr>\n",
              "      <th>0</th>\n",
              "      <td>2018-09-28</td>\n",
              "      <td>234.05</td>\n",
              "      <td>235.95</td>\n",
              "      <td>230.20</td>\n",
              "      <td>233.50</td>\n",
              "      <td>233.75</td>\n",
              "      <td>3069914</td>\n",
              "      <td>7162.35</td>\n",
              "    </tr>\n",
              "    <tr>\n",
              "      <th>1</th>\n",
              "      <td>2018-09-27</td>\n",
              "      <td>234.55</td>\n",
              "      <td>236.80</td>\n",
              "      <td>231.10</td>\n",
              "      <td>233.80</td>\n",
              "      <td>233.25</td>\n",
              "      <td>5082859</td>\n",
              "      <td>11859.95</td>\n",
              "    </tr>\n",
              "    <tr>\n",
              "      <th>2</th>\n",
              "      <td>2018-09-26</td>\n",
              "      <td>240.00</td>\n",
              "      <td>240.00</td>\n",
              "      <td>232.50</td>\n",
              "      <td>235.00</td>\n",
              "      <td>234.25</td>\n",
              "      <td>2240909</td>\n",
              "      <td>5248.60</td>\n",
              "    </tr>\n",
              "    <tr>\n",
              "      <th>3</th>\n",
              "      <td>2018-09-25</td>\n",
              "      <td>233.30</td>\n",
              "      <td>236.75</td>\n",
              "      <td>232.00</td>\n",
              "      <td>236.25</td>\n",
              "      <td>236.10</td>\n",
              "      <td>2349368</td>\n",
              "      <td>5503.90</td>\n",
              "    </tr>\n",
              "    <tr>\n",
              "      <th>4</th>\n",
              "      <td>2018-09-24</td>\n",
              "      <td>233.55</td>\n",
              "      <td>239.20</td>\n",
              "      <td>230.75</td>\n",
              "      <td>234.00</td>\n",
              "      <td>233.30</td>\n",
              "      <td>3423509</td>\n",
              "      <td>7999.55</td>\n",
              "    </tr>\n",
              "  </tbody>\n",
              "</table>\n",
              "</div>\n",
              "      <button class=\"colab-df-convert\" onclick=\"convertToInteractive('df-a18b23cd-d392-4147-b6ee-a68ace64fa26')\"\n",
              "              title=\"Convert this dataframe to an interactive table.\"\n",
              "              style=\"display:none;\">\n",
              "        \n",
              "  <svg xmlns=\"http://www.w3.org/2000/svg\" height=\"24px\"viewBox=\"0 0 24 24\"\n",
              "       width=\"24px\">\n",
              "    <path d=\"M0 0h24v24H0V0z\" fill=\"none\"/>\n",
              "    <path d=\"M18.56 5.44l.94 2.06.94-2.06 2.06-.94-2.06-.94-.94-2.06-.94 2.06-2.06.94zm-11 1L8.5 8.5l.94-2.06 2.06-.94-2.06-.94L8.5 2.5l-.94 2.06-2.06.94zm10 10l.94 2.06.94-2.06 2.06-.94-2.06-.94-.94-2.06-.94 2.06-2.06.94z\"/><path d=\"M17.41 7.96l-1.37-1.37c-.4-.4-.92-.59-1.43-.59-.52 0-1.04.2-1.43.59L10.3 9.45l-7.72 7.72c-.78.78-.78 2.05 0 2.83L4 21.41c.39.39.9.59 1.41.59.51 0 1.02-.2 1.41-.59l7.78-7.78 2.81-2.81c.8-.78.8-2.07 0-2.86zM5.41 20L4 18.59l7.72-7.72 1.47 1.35L5.41 20z\"/>\n",
              "  </svg>\n",
              "      </button>\n",
              "      \n",
              "  <style>\n",
              "    .colab-df-container {\n",
              "      display:flex;\n",
              "      flex-wrap:wrap;\n",
              "      gap: 12px;\n",
              "    }\n",
              "\n",
              "    .colab-df-convert {\n",
              "      background-color: #E8F0FE;\n",
              "      border: none;\n",
              "      border-radius: 50%;\n",
              "      cursor: pointer;\n",
              "      display: none;\n",
              "      fill: #1967D2;\n",
              "      height: 32px;\n",
              "      padding: 0 0 0 0;\n",
              "      width: 32px;\n",
              "    }\n",
              "\n",
              "    .colab-df-convert:hover {\n",
              "      background-color: #E2EBFA;\n",
              "      box-shadow: 0px 1px 2px rgba(60, 64, 67, 0.3), 0px 1px 3px 1px rgba(60, 64, 67, 0.15);\n",
              "      fill: #174EA6;\n",
              "    }\n",
              "\n",
              "    [theme=dark] .colab-df-convert {\n",
              "      background-color: #3B4455;\n",
              "      fill: #D2E3FC;\n",
              "    }\n",
              "\n",
              "    [theme=dark] .colab-df-convert:hover {\n",
              "      background-color: #434B5C;\n",
              "      box-shadow: 0px 1px 3px 1px rgba(0, 0, 0, 0.15);\n",
              "      filter: drop-shadow(0px 1px 2px rgba(0, 0, 0, 0.3));\n",
              "      fill: #FFFFFF;\n",
              "    }\n",
              "  </style>\n",
              "\n",
              "      <script>\n",
              "        const buttonEl =\n",
              "          document.querySelector('#df-a18b23cd-d392-4147-b6ee-a68ace64fa26 button.colab-df-convert');\n",
              "        buttonEl.style.display =\n",
              "          google.colab.kernel.accessAllowed ? 'block' : 'none';\n",
              "\n",
              "        async function convertToInteractive(key) {\n",
              "          const element = document.querySelector('#df-a18b23cd-d392-4147-b6ee-a68ace64fa26');\n",
              "          const dataTable =\n",
              "            await google.colab.kernel.invokeFunction('convertToInteractive',\n",
              "                                                     [key], {});\n",
              "          if (!dataTable) return;\n",
              "\n",
              "          const docLinkHtml = 'Like what you see? Visit the ' +\n",
              "            '<a target=\"_blank\" href=https://colab.research.google.com/notebooks/data_table.ipynb>data table notebook</a>'\n",
              "            + ' to learn more about interactive tables.';\n",
              "          element.innerHTML = '';\n",
              "          dataTable['output_type'] = 'display_data';\n",
              "          await google.colab.output.renderOutput(dataTable, element);\n",
              "          const docLink = document.createElement('div');\n",
              "          docLink.innerHTML = docLinkHtml;\n",
              "          element.appendChild(docLink);\n",
              "        }\n",
              "      </script>\n",
              "    </div>\n",
              "  </div>\n",
              "  "
            ]
          },
          "metadata": {},
          "execution_count": 52
        }
      ]
    },
    {
      "cell_type": "code",
      "source": [
        "print(\"Dataframe Shape: \", df. shape)\n",
        "print('Null Value Present: ', df.isnull().values.any())\n"
      ],
      "metadata": {
        "colab": {
          "base_uri": "https://localhost:8080/"
        },
        "id": "Unm5sSslHD7k",
        "outputId": "1d20fbde-3bbf-41f4-9ecb-d41a924881ca"
      },
      "execution_count": 53,
      "outputs": [
        {
          "output_type": "stream",
          "name": "stdout",
          "text": [
            "Dataframe Shape:  (2035, 8)\n",
            "Null Value Present:  False\n"
          ]
        }
      ]
    },
    {
      "cell_type": "markdown",
      "source": [
        "**Plotting the True Close Value**"
      ],
      "metadata": {
        "id": "Qf8VclzBKyBe"
      }
    },
    {
      "cell_type": "code",
      "source": [
        "#Plot the True Close Value\n",
        "df['Close'].plot()"
      ],
      "metadata": {
        "colab": {
          "base_uri": "https://localhost:8080/",
          "height": 447
        },
        "id": "E3AqVPnpIYdf",
        "outputId": "85a48022-6f83-45a7-bab4-e581803e1233"
      },
      "execution_count": 54,
      "outputs": [
        {
          "output_type": "execute_result",
          "data": {
            "text/plain": [
              "<Axes: >"
            ]
          },
          "metadata": {},
          "execution_count": 54
        },
        {
          "output_type": "display_data",
          "data": {
            "text/plain": [
              "<Figure size 640x480 with 1 Axes>"
            ],
            "image/png": "[encoded data removed]"
          },
          "metadata": {}
        }
      ]
    },
    {
      "cell_type": "markdown",
      "source": [
        "**Setting the Target Variable and Selecting the Features**"
      ],
      "metadata": {
        "id": "wPSwL_OfLQgK"
      }
    },
    {
      "cell_type": "code",
      "source": [
        "#Set Target Variable\n",
        "output_var = PD.DataFrame(df['Close'])\n",
        "#Selecting the Features\n",
        "features = ['Open', 'High', 'Low', 'Total Trade Quantity']"
      ],
      "metadata": {
        "id": "zRls_j2WHT_r"
      },
      "execution_count": 55,
      "outputs": []
    },
    {
      "cell_type": "markdown",
      "source": [
        "**Scaling**"
      ],
      "metadata": {
        "id": "utfmz4VCLVvf"
      }
    },
    {
      "cell_type": "code",
      "source": [
        "#Scaling\n",
        "scaler = MinMaxScaler()\n",
        "feature_transform = scaler.fit_transform(df[features])\n",
        "feature_transform= PD.DataFrame(columns=features, data=feature_transform, index=df.index)\n",
        "feature_transform.head()"
      ],
      "metadata": {
        "colab": {
          "base_uri": "https://localhost:8080/",
          "height": 206
        },
        "id": "ZikDBBxHHD1Z",
        "outputId": "8ab5a266-bc7a-489d-9747-173c4cea21a7"
      },
      "execution_count": 56,
      "outputs": [
        {
          "output_type": "execute_result",
          "data": {
            "text/plain": [
              "       Open      High       Low  Total Trade Quantity\n",
              "0  0.620235  0.622688  0.621560              0.103951\n",
              "1  0.622263  0.626144  0.625285              0.173002\n",
              "2  0.644363  0.639154  0.631078              0.075513\n",
              "3  0.617194  0.625940  0.629009              0.079233\n",
              "4  0.618208  0.635902  0.623836              0.116080"
            ],
            "text/html": [
              "\n",
              "  <div id=\"df-8b1b513a-8f06-4b7c-ba6f-7c09f8537f9f\">\n",
              "    <div class=\"colab-df-container\">\n",
              "      <div>\n",
              "<style scoped>\n",
              "    .dataframe tbody tr th:only-of-type {\n",
              "        vertical-align: middle;\n",
              "    }\n",
              "\n",
              "    .dataframe tbody tr th {\n",
              "        vertical-align: top;\n",
              "    }\n",
              "\n",
              "    .dataframe thead th {\n",
              "        text-align: right;\n",
              "    }\n",
              "</style>\n",
              "<table border=\"1\" class=\"dataframe\">\n",
              "  <thead>\n",
              "    <tr style=\"text-align: right;\">\n",
              "      <th></th>\n",
              "      <th>Open</th>\n",
              "      <th>High</th>\n",
              "      <th>Low</th>\n",
              "      <th>Total Trade Quantity</th>\n",
              "    </tr>\n",
              "  </thead>\n",
              "  <tbody>\n",
              "    <tr>\n",
              "      <th>0</th>\n",
              "      <td>0.620235</td>\n",
              "      <td>0.622688</td>\n",
              "      <td>0.621560</td>\n",
              "      <td>0.103951</td>\n",
              "    </tr>\n",
              "    <tr>\n",
              "      <th>1</th>\n",
              "      <td>0.622263</td>\n",
              "      <td>0.626144</td>\n",
              "      <td>0.625285</td>\n",
              "      <td>0.173002</td>\n",
              "    </tr>\n",
              "    <tr>\n",
              "      <th>2</th>\n",
              "      <td>0.644363</td>\n",
              "      <td>0.639154</td>\n",
              "      <td>0.631078</td>\n",
              "      <td>0.075513</td>\n",
              "    </tr>\n",
              "    <tr>\n",
              "      <th>3</th>\n",
              "      <td>0.617194</td>\n",
              "      <td>0.625940</td>\n",
              "      <td>0.629009</td>\n",
              "      <td>0.079233</td>\n",
              "    </tr>\n",
              "    <tr>\n",
              "      <th>4</th>\n",
              "      <td>0.618208</td>\n",
              "      <td>0.635902</td>\n",
              "      <td>0.623836</td>\n",
              "      <td>0.116080</td>\n",
              "    </tr>\n",
              "  </tbody>\n",
              "</table>\n",
              "</div>\n",
              "      <button class=\"colab-df-convert\" onclick=\"convertToInteractive('df-8b1b513a-8f06-4b7c-ba6f-7c09f8537f9f')\"\n",
              "              title=\"Convert this dataframe to an interactive table.\"\n",
              "              style=\"display:none;\">\n",
              "        \n",
              "  <svg xmlns=\"http://www.w3.org/2000/svg\" height=\"24px\"viewBox=\"0 0 24 24\"\n",
              "       width=\"24px\">\n",
              "    <path d=\"M0 0h24v24H0V0z\" fill=\"none\"/>\n",
              "    <path d=\"M18.56 5.44l.94 2.06.94-2.06 2.06-.94-2.06-.94-.94-2.06-.94 2.06-2.06.94zm-11 1L8.5 8.5l.94-2.06 2.06-.94-2.06-.94L8.5 2.5l-.94 2.06-2.06.94zm10 10l.94 2.06.94-2.06 2.06-.94-2.06-.94-.94-2.06-.94 2.06-2.06.94z\"/><path d=\"M17.41 7.96l-1.37-1.37c-.4-.4-.92-.59-1.43-.59-.52 0-1.04.2-1.43.59L10.3 9.45l-7.72 7.72c-.78.78-.78 2.05 0 2.83L4 21.41c.39.39.9.59 1.41.59.51 0 1.02-.2 1.41-.59l7.78-7.78 2.81-2.81c.8-.78.8-2.07 0-2.86zM5.41 20L4 18.59l7.72-7.72 1.47 1.35L5.41 20z\"/>\n",
              "  </svg>\n",
              "      </button>\n",
              "      \n",
              "  <style>\n",
              "    .colab-df-container {\n",
              "      display:flex;\n",
              "      flex-wrap:wrap;\n",
              "      gap: 12px;\n",
              "    }\n",
              "\n",
              "    .colab-df-convert {\n",
              "      background-color: #E8F0FE;\n",
              "      border: none;\n",
              "      border-radius: 50%;\n",
              "      cursor: pointer;\n",
              "      display: none;\n",
              "      fill: #1967D2;\n",
              "      height: 32px;\n",
              "      padding: 0 0 0 0;\n",
              "      width: 32px;\n",
              "    }\n",
              "\n",
              "    .colab-df-convert:hover {\n",
              "      background-color: #E2EBFA;\n",
              "      box-shadow: 0px 1px 2px rgba(60, 64, 67, 0.3), 0px 1px 3px 1px rgba(60, 64, 67, 0.15);\n",
              "      fill: #174EA6;\n",
              "    }\n",
              "\n",
              "    [theme=dark] .colab-df-convert {\n",
              "      background-color: #3B4455;\n",
              "      fill: #D2E3FC;\n",
              "    }\n",
              "\n",
              "    [theme=dark] .colab-df-convert:hover {\n",
              "      background-color: #434B5C;\n",
              "      box-shadow: 0px 1px 3px 1px rgba(0, 0, 0, 0.15);\n",
              "      filter: drop-shadow(0px 1px 2px rgba(0, 0, 0, 0.3));\n",
              "      fill: #FFFFFF;\n",
              "    }\n",
              "  </style>\n",
              "\n",
              "      <script>\n",
              "        const buttonEl =\n",
              "          document.querySelector('#df-8b1b513a-8f06-4b7c-ba6f-7c09f8537f9f button.colab-df-convert');\n",
              "        buttonEl.style.display =\n",
              "          google.colab.kernel.accessAllowed ? 'block' : 'none';\n",
              "\n",
              "        async function convertToInteractive(key) {\n",
              "          const element = document.querySelector('#df-8b1b513a-8f06-4b7c-ba6f-7c09f8537f9f');\n",
              "          const dataTable =\n",
              "            await google.colab.kernel.invokeFunction('convertToInteractive',\n",
              "                                                     [key], {});\n",
              "          if (!dataTable) return;\n",
              "\n",
              "          const docLinkHtml = 'Like what you see? Visit the ' +\n",
              "            '<a target=\"_blank\" href=https://colab.research.google.com/notebooks/data_table.ipynb>data table notebook</a>'\n",
              "            + ' to learn more about interactive tables.';\n",
              "          element.innerHTML = '';\n",
              "          dataTable['output_type'] = 'display_data';\n",
              "          await google.colab.output.renderOutput(dataTable, element);\n",
              "          const docLink = document.createElement('div');\n",
              "          docLink.innerHTML = docLinkHtml;\n",
              "          element.appendChild(docLink);\n",
              "        }\n",
              "      </script>\n",
              "    </div>\n",
              "  </div>\n",
              "  "
            ]
          },
          "metadata": {},
          "execution_count": 56
        }
      ]
    },
    {
      "cell_type": "markdown",
      "source": [
        "**Creating a Training Set and a Test Set for Stock Market Prediction**"
      ],
      "metadata": {
        "id": "f10x0TIVLYpH"
      }
    },
    {
      "cell_type": "code",
      "source": [
        "#Splitting to Training set and Test set\n",
        "timesplit= TimeSeriesSplit(n_splits=10)\n",
        "for train_index, test_index in timesplit.split(feature_transform):\n",
        "        X_train, X_test = feature_transform[:len(train_index)], feature_transform[len(train_index): (len(train_index)+len(test_index))]\n",
        "        y_train, y_test = output_var[:len(train_index)].values.ravel(), output_var[len(train_index): (len(train_index)+len(test_index))].values.ravel()"
      ],
      "metadata": {
        "id": "1npai-ZtJFkL"
      },
      "execution_count": 57,
      "outputs": []
    },
    {
      "cell_type": "markdown",
      "source": [
        "**Data Processing For LSTM**"
      ],
      "metadata": {
        "id": "jZJZK--tLb7o"
      }
    },
    {
      "cell_type": "code",
      "source": [
        "#Process the data for LSTM\n",
        "trainX =np.array(X_train)\n",
        "testX =np.array(X_test)\n",
        "X_train = trainX.reshape(X_train.shape[0], 1, X_train.shape[1])\n",
        "X_test = testX.reshape(X_test.shape[0], 1, X_test.shape[1])"
      ],
      "metadata": {
        "id": "ZmHbc3mDJH84"
      },
      "execution_count": 58,
      "outputs": []
    },
    {
      "cell_type": "markdown",
      "source": [
        "**Building the LSTM Model for Stock Market Prediction**"
      ],
      "metadata": {
        "id": "reW96rHRLeY6"
      }
    },
    {
      "cell_type": "code",
      "source": [
        "#Building the LSTM Model\n",
        "lstm = Sequential()\n",
        "lstm.add(LSTM(32, input_shape=(1, trainX.shape[1]), activation='relu', return_sequences=False))\n",
        "lstm.add(Dense(1))\n",
        "lstm.compile(loss='mean_squared_error', optimizer='adam')\n",
        "plot_model(lstm, show_shapes=True, show_layer_names=True)"
      ],
      "metadata": {
        "colab": {
          "base_uri": "https://localhost:8080/",
          "height": 312
        },
        "id": "jQ1feHA0JJ4y",
        "outputId": "2ca5735a-00e4-456e-dcfc-1130fd2b2bb2"
      },
      "execution_count": 59,
      "outputs": [
        {
          "output_type": "execute_result",
          "data": {
            "image/png": "[encoded data removed]",
            "text/plain": [
              "<IPython.core.display.Image object>"
            ]
          },
          "metadata": {},
          "execution_count": 59
        }
      ]
    },
    {
      "cell_type": "markdown",
      "source": [
        "**Training the Stock Market Prediction Model**"
      ],
      "metadata": {
        "id": "QNtsSGj0LhIG"
      }
    },
    {
      "cell_type": "markdown",
      "source": [
        "**Finally, we use the fit function to train the LSTM model created above on the training data for 100 epochs with a batch size of 8.**"
      ],
      "metadata": {
        "id": "RNMx5MDVJd0r"
      }
    },
    {
      "cell_type": "code",
      "source": [
        "history=lstm.fit(X_train, y_train, epochs=100, batch_size=8, verbose=1, shuffle=False)"
      ],
      "metadata": {
        "colab": {
          "base_uri": "https://localhost:8080/"
        },
        "id": "7_LUbs_GJWgU",
        "outputId": "e411f4ec-5e5e-4376-e9ba-1c0895dfc509"
      },
      "execution_count": 60,
      "outputs": [
        {
          "output_type": "stream",
          "name": "stdout",
          "text": [
            "Epoch 1/100\n",
            "232/232 [==============================] - 2s 3ms/step - loss: 25816.7500\n",
            "Epoch 2/100\n",
            "232/232 [==============================] - 1s 3ms/step - loss: 25026.7188\n",
            "Epoch 3/100\n",
            "232/232 [==============================] - 1s 3ms/step - loss: 22566.3105\n",
            "Epoch 4/100\n",
            "232/232 [==============================] - 1s 5ms/step - loss: 18676.1543\n",
            "Epoch 5/100\n",
            "232/232 [==============================] - 1s 5ms/step - loss: 14154.6074\n",
            "Epoch 6/100\n",
            "232/232 [==============================] - 1s 4ms/step - loss: 9588.7256\n",
            "Epoch 7/100\n",
            "232/232 [==============================] - 1s 3ms/step - loss: 5854.3594\n",
            "Epoch 8/100\n",
            "232/232 [==============================] - 1s 3ms/step - loss: 3188.6589\n",
            "Epoch 9/100\n",
            "232/232 [==============================] - 1s 3ms/step - loss: 1534.9210\n",
            "Epoch 10/100\n",
            "232/232 [==============================] - 1s 3ms/step - loss: 658.7281\n",
            "Epoch 11/100\n",
            "232/232 [==============================] - 1s 3ms/step - loss: 268.6098\n",
            "Epoch 12/100\n",
            "232/232 [==============================] - 1s 3ms/step - loss: 122.8216\n",
            "Epoch 13/100\n",
            "232/232 [==============================] - 1s 3ms/step - loss: 75.2946\n",
            "Epoch 14/100\n",
            "232/232 [==============================] - 1s 3ms/step - loss: 59.7031\n",
            "Epoch 15/100\n",
            "232/232 [==============================] - 1s 3ms/step - loss: 54.4056\n",
            "Epoch 16/100\n",
            "232/232 [==============================] - 1s 3ms/step - loss: 49.7354\n",
            "Epoch 17/100\n",
            "232/232 [==============================] - 1s 3ms/step - loss: 46.4555\n",
            "Epoch 18/100\n",
            "232/232 [==============================] - 1s 3ms/step - loss: 43.5202\n",
            "Epoch 19/100\n",
            "232/232 [==============================] - 1s 3ms/step - loss: 40.7326\n",
            "Epoch 20/100\n",
            "232/232 [==============================] - 1s 3ms/step - loss: 38.0587\n",
            "Epoch 21/100\n",
            "232/232 [==============================] - 1s 5ms/step - loss: 35.5102\n",
            "Epoch 22/100\n",
            "232/232 [==============================] - 1s 5ms/step - loss: 33.1018\n",
            "Epoch 23/100\n",
            "232/232 [==============================] - 1s 3ms/step - loss: 30.8596\n",
            "Epoch 24/100\n",
            "232/232 [==============================] - 1s 3ms/step - loss: 28.7932\n",
            "Epoch 25/100\n",
            "232/232 [==============================] - 1s 3ms/step - loss: 26.8915\n",
            "Epoch 26/100\n",
            "232/232 [==============================] - 1s 3ms/step - loss: 25.1476\n",
            "Epoch 27/100\n",
            "232/232 [==============================] - 1s 3ms/step - loss: 23.5437\n",
            "Epoch 28/100\n",
            "232/232 [==============================] - 1s 3ms/step - loss: 22.0580\n",
            "Epoch 29/100\n",
            "232/232 [==============================] - 1s 3ms/step - loss: 20.6755\n",
            "Epoch 30/100\n",
            "232/232 [==============================] - 1s 3ms/step - loss: 19.3836\n",
            "Epoch 31/100\n",
            "232/232 [==============================] - 1s 3ms/step - loss: 18.1697\n",
            "Epoch 32/100\n",
            "232/232 [==============================] - 1s 3ms/step - loss: 17.0269\n",
            "Epoch 33/100\n",
            "232/232 [==============================] - 1s 3ms/step - loss: 15.9476\n",
            "Epoch 34/100\n",
            "232/232 [==============================] - 1s 3ms/step - loss: 14.9305\n",
            "Epoch 35/100\n",
            "232/232 [==============================] - 1s 3ms/step - loss: 13.9725\n",
            "Epoch 36/100\n",
            "232/232 [==============================] - 1s 3ms/step - loss: 13.0734\n",
            "Epoch 37/100\n",
            "232/232 [==============================] - 1s 3ms/step - loss: 12.2275\n",
            "Epoch 38/100\n",
            "232/232 [==============================] - 1s 5ms/step - loss: 11.4343\n",
            "Epoch 39/100\n",
            "232/232 [==============================] - 1s 5ms/step - loss: 10.6939\n",
            "Epoch 40/100\n",
            "232/232 [==============================] - 1s 4ms/step - loss: 10.0042\n",
            "Epoch 41/100\n",
            "232/232 [==============================] - 1s 3ms/step - loss: 9.3636\n",
            "Epoch 42/100\n",
            "232/232 [==============================] - 1s 3ms/step - loss: 8.7719\n",
            "Epoch 43/100\n",
            "232/232 [==============================] - 1s 3ms/step - loss: 8.2285\n",
            "Epoch 44/100\n",
            "232/232 [==============================] - 1s 4ms/step - loss: 7.7310\n",
            "Epoch 45/100\n",
            "232/232 [==============================] - 1s 4ms/step - loss: 7.2795\n",
            "Epoch 46/100\n",
            "232/232 [==============================] - 1s 5ms/step - loss: 6.8729\n",
            "Epoch 47/100\n",
            "232/232 [==============================] - 1s 3ms/step - loss: 6.5070\n",
            "Epoch 48/100\n",
            "232/232 [==============================] - 1s 5ms/step - loss: 6.1815\n",
            "Epoch 49/100\n",
            "232/232 [==============================] - 1s 6ms/step - loss: 5.8979\n",
            "Epoch 50/100\n",
            "232/232 [==============================] - 1s 5ms/step - loss: 5.6494\n",
            "Epoch 51/100\n",
            "232/232 [==============================] - 1s 6ms/step - loss: 5.4355\n",
            "Epoch 52/100\n",
            "232/232 [==============================] - 1s 6ms/step - loss: 5.2535\n",
            "Epoch 53/100\n",
            "232/232 [==============================] - 1s 6ms/step - loss: 5.1005\n",
            "Epoch 54/100\n",
            "232/232 [==============================] - 1s 4ms/step - loss: 4.9727\n",
            "Epoch 55/100\n",
            "232/232 [==============================] - 1s 5ms/step - loss: 4.8690\n",
            "Epoch 56/100\n",
            "232/232 [==============================] - 1s 5ms/step - loss: 4.7838\n",
            "Epoch 57/100\n",
            "232/232 [==============================] - 1s 4ms/step - loss: 4.7146\n",
            "Epoch 58/100\n",
            "232/232 [==============================] - 1s 5ms/step - loss: 4.6598\n",
            "Epoch 59/100\n",
            "232/232 [==============================] - 1s 4ms/step - loss: 4.6147\n",
            "Epoch 60/100\n",
            "232/232 [==============================] - 1s 4ms/step - loss: 4.5790\n",
            "Epoch 61/100\n",
            "232/232 [==============================] - 1s 4ms/step - loss: 4.5488\n",
            "Epoch 62/100\n",
            "232/232 [==============================] - 1s 5ms/step - loss: 4.5243\n",
            "Epoch 63/100\n",
            "232/232 [==============================] - 1s 5ms/step - loss: 4.5029\n",
            "Epoch 64/100\n",
            "232/232 [==============================] - 2s 7ms/step - loss: 4.4848\n",
            "Epoch 65/100\n",
            "232/232 [==============================] - 1s 4ms/step - loss: 4.4688\n",
            "Epoch 66/100\n",
            "232/232 [==============================] - 1s 5ms/step - loss: 4.4548\n",
            "Epoch 67/100\n",
            "232/232 [==============================] - 1s 4ms/step - loss: 4.4417\n",
            "Epoch 68/100\n",
            "232/232 [==============================] - 1s 3ms/step - loss: 4.4300\n",
            "Epoch 69/100\n",
            "232/232 [==============================] - 1s 3ms/step - loss: 4.4195\n",
            "Epoch 70/100\n",
            "232/232 [==============================] - 1s 3ms/step - loss: 4.4091\n",
            "Epoch 71/100\n",
            "232/232 [==============================] - 1s 3ms/step - loss: 4.3997\n",
            "Epoch 72/100\n",
            "232/232 [==============================] - 1s 3ms/step - loss: 4.3908\n",
            "Epoch 73/100\n",
            "232/232 [==============================] - 1s 3ms/step - loss: 4.3819\n",
            "Epoch 74/100\n",
            "232/232 [==============================] - 1s 3ms/step - loss: 4.3735\n",
            "Epoch 75/100\n",
            "232/232 [==============================] - 1s 3ms/step - loss: 4.3656\n",
            "Epoch 76/100\n",
            "232/232 [==============================] - 1s 3ms/step - loss: 4.3573\n",
            "Epoch 77/100\n",
            "232/232 [==============================] - 1s 3ms/step - loss: 4.3496\n",
            "Epoch 78/100\n",
            "232/232 [==============================] - 1s 4ms/step - loss: 4.3415\n",
            "Epoch 79/100\n",
            "232/232 [==============================] - 1s 5ms/step - loss: 4.3340\n",
            "Epoch 80/100\n",
            "232/232 [==============================] - 1s 4ms/step - loss: 4.3261\n",
            "Epoch 81/100\n",
            "232/232 [==============================] - 1s 3ms/step - loss: 4.3187\n",
            "Epoch 82/100\n",
            "232/232 [==============================] - 1s 3ms/step - loss: 4.3108\n",
            "Epoch 83/100\n",
            "232/232 [==============================] - 1s 3ms/step - loss: 4.3034\n",
            "Epoch 84/100\n",
            "232/232 [==============================] - 1s 3ms/step - loss: 4.2958\n",
            "Epoch 85/100\n",
            "232/232 [==============================] - 1s 3ms/step - loss: 4.2880\n",
            "Epoch 86/100\n",
            "232/232 [==============================] - 1s 3ms/step - loss: 4.2807\n",
            "Epoch 87/100\n",
            "232/232 [==============================] - 1s 3ms/step - loss: 4.2730\n",
            "Epoch 88/100\n",
            "232/232 [==============================] - 1s 3ms/step - loss: 4.2657\n",
            "Epoch 89/100\n",
            "232/232 [==============================] - 1s 3ms/step - loss: 4.2580\n",
            "Epoch 90/100\n",
            "232/232 [==============================] - 1s 3ms/step - loss: 4.2508\n",
            "Epoch 91/100\n",
            "232/232 [==============================] - 1s 3ms/step - loss: 4.2433\n",
            "Epoch 92/100\n",
            "232/232 [==============================] - 1s 3ms/step - loss: 4.2357\n",
            "Epoch 93/100\n",
            "232/232 [==============================] - 1s 3ms/step - loss: 4.2285\n",
            "Epoch 94/100\n",
            "232/232 [==============================] - 1s 3ms/step - loss: 4.2211\n",
            "Epoch 95/100\n",
            "232/232 [==============================] - 1s 4ms/step - loss: 4.2136\n",
            "Epoch 96/100\n",
            "232/232 [==============================] - 1s 5ms/step - loss: 4.2065\n",
            "Epoch 97/100\n",
            "232/232 [==============================] - 1s 5ms/step - loss: 4.1991\n",
            "Epoch 98/100\n",
            "232/232 [==============================] - 1s 3ms/step - loss: 4.1916\n",
            "Epoch 99/100\n",
            "232/232 [==============================] - 1s 3ms/step - loss: 4.1845\n",
            "Epoch 100/100\n",
            "232/232 [==============================] - 1s 3ms/step - loss: 4.1772\n"
          ]
        }
      ]
    },
    {
      "cell_type": "markdown",
      "source": [
        "**Making the LSTM Prediction**"
      ],
      "metadata": {
        "id": "6uC0bEMzLrVf"
      }
    },
    {
      "cell_type": "code",
      "source": [
        "#LSTM Prediction\n",
        "y_pred= lstm.predict(X_test)"
      ],
      "metadata": {
        "colab": {
          "base_uri": "https://localhost:8080/"
        },
        "id": "27UGc-PRJw8V",
        "outputId": "ef0c03d4-a0fd-403d-ec4c-c93f2f60eab7"
      },
      "execution_count": 61,
      "outputs": [
        {
          "output_type": "stream",
          "name": "stdout",
          "text": [
            "6/6 [==============================] - 0s 3ms/step\n"
          ]
        }
      ]
    },
    {
      "cell_type": "markdown",
      "source": [
        "**Comparing Predicted vs True Close Value – LSTM**"
      ],
      "metadata": {
        "id": "XOxIoGLRLvg4"
      }
    },
    {
      "cell_type": "code",
      "source": [
        "#Predicted vs True Close Value – LSTM\n",
        "plt.plot(y_test, label='True Value' , color='red')\n",
        "plt.plot(y_pred, label='LSTM Value', color='green')\n",
        "plt.title('Prediction by LSTM')\n",
        "plt.xlabel('Time Scale')\n",
        "plt.ylabel('Scaled USD')\n",
        "plt.legend()\n",
        "plt.show()"
      ],
      "metadata": {
        "colab": {
          "base_uri": "https://localhost:8080/",
          "height": 472
        },
        "id": "cqzzt68IJ4XQ",
        "outputId": "40e4ad42-f116-4807-8049-14bfe8cf38c8"
      },
      "execution_count": 63,
      "outputs": [
        {
          "output_type": "display_data",
          "data": {
            "text/plain": [
              "<Figure size 640x480 with 1 Axes>"
            ],
            "image/png": "[encoded data removed]"
          },
          "metadata": {}
        }
      ]
    },
    {
      "cell_type": "markdown",
      "source": [
        "***The graph above demonstrates that the extremely basic single LSTM network model created above detects some patterns.***"
      ],
      "metadata": {
        "id": "mADmUFqgL5ui"
      }
    }
  ]
}